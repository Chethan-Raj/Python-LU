{
 "cells": [
  {
   "cell_type": "code",
   "execution_count": 18,
   "metadata": {},
   "outputs": [
    {
     "name": "stdout",
     "output_type": "stream",
     "text": [
      "50\n",
      "Grade D\n"
     ]
    }
   ],
   "source": [
    "marks = int(input())\n",
    "if marks >=90 :\n",
    "    print(\"Grade A\")\n",
    "elif marks < 90 and marks >70:\n",
    "    print(\"Grade B\")\n",
    "elif marks <=70 and marks >60:\n",
    "    print(\"Grade C\")\n",
    "elif marks<= 60 and marks >40:\n",
    "    print (\"Grade D\")\n",
    "else:\n",
    "    print(\"Grade F\")"
   ]
  },
  {
   "cell_type": "code",
   "execution_count": null,
   "metadata": {},
   "outputs": [],
   "source": []
  }
 ],
 "metadata": {
  "kernelspec": {
   "display_name": "Python 3",
   "language": "python",
   "name": "python3"
  },
  "language_info": {
   "codemirror_mode": {
    "name": "ipython",
    "version": 3
   },
   "file_extension": ".py",
   "mimetype": "text/x-python",
   "name": "python",
   "nbconvert_exporter": "python",
   "pygments_lexer": "ipython3",
   "version": "3.8.5"
  }
 },
 "nbformat": 4,
 "nbformat_minor": 4
}
